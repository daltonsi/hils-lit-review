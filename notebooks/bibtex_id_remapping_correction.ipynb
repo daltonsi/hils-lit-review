{
 "cells": [
  {
   "cell_type": "code",
   "execution_count": 1,
   "id": "0c213627",
   "metadata": {},
   "outputs": [],
   "source": [
    "import csv\n",
    "import pandas as pd\n",
    "\n",
    "\n",
    "input_excel = 'scopus_06052024_QA.xlsx'"
   ]
  },
  {
   "cell_type": "code",
   "execution_count": 15,
   "id": "24c2937b",
   "metadata": {},
   "outputs": [
    {
     "name": "stderr",
     "output_type": "stream",
     "text": [
      "/var/folders/33/pfy8jrg52x11xv1cbbfdk1d00000gn/T/ipykernel_34284/833164072.py:17: SettingWithCopyWarning: \n",
      "A value is trying to be set on a copy of a slice from a DataFrame.\n",
      "Try using .loc[row_indexer,col_indexer] = value instead\n",
      "\n",
      "See the caveats in the documentation: https://pandas.pydata.org/pandas-docs/stable/user_guide/indexing.html#returning-a-view-versus-a-copy\n",
      "  df_include['ID'] = df_include.apply(create_bibtex_id, axis=1)\n"
     ]
    }
   ],
   "source": [
    "def generate_bibtex_id(input_excel, output_csv):\n",
    "    # Read the Excel file\n",
    "    df = pd.read_excel(input_excel)\n",
    "    df_include = df[df[\"PET C\"].isin([\"DP\", \"CL\",\"SD\",\"DP-SD\",\"DP-CL\",\"CL-SD\",\"DP-CL-SD\"])]   \n",
    "    # Function to create the BibTeX ID\n",
    "    def create_bibtex_id(row):\n",
    "        # Split authors and get the first author's last name\n",
    "        first_author_last_name = row['Author full names'].split(',')[0].lower()#.split()[-1]\n",
    "        # Get the first word of the title\n",
    "        first_word_title = row['Title'].split()[0].lower()\n",
    "        # Get the year\n",
    "        year = row['Year']\n",
    "        # Format the BibTeX ID\n",
    "        return f\"{first_author_last_name}_{first_word_title}_{year}\"\n",
    "    \n",
    "    # Apply the function to each row to create a new column 'BibTeX_ID'\n",
    "    df_include['ID'] = df_include.apply(create_bibtex_id, axis=1)\n",
    "    df_include.to_csv(output_csv)\n",
    "    # Save the DataFrame to a new Excel file\n",
    "    #df.to_excel(output_excel, index=False)\n",
    "\n",
    "# Example usage\n",
    "#output_excel = 'your_output_file.xlsx'\n",
    "generate_bibtex_id(input_excel, 'scopus_06052024_QA.csv')"
   ]
  },
  {
   "cell_type": "code",
   "execution_count": 18,
   "id": "823aa1eb",
   "metadata": {},
   "outputs": [],
   "source": [
    "precleaned_main_csv = 'queryA_gs-scopus-results_preclean.csv'\n",
    "clean_addition_csv = 'scopus_06052024_QA.csv'\n",
    "\n",
    "main_csv_precleaned_df = pd.read_csv(precleaned_main_csv)\n",
    "clean_addition_df = pd.read_csv(clean_addition_csv)\n",
    "\n",
    "merged_df = pd.merge(main_csv_precleaned_df, clean_addition_df, on='ID', how='outer')"
   ]
  },
  {
   "cell_type": "code",
   "execution_count": 20,
   "id": "1c94b374",
   "metadata": {},
   "outputs": [],
   "source": [
    "merged_df\n",
    "\n",
    "merged_df.to_csv('final.csv')"
   ]
  },
  {
   "cell_type": "code",
   "execution_count": null,
   "id": "a37363ba",
   "metadata": {},
   "outputs": [],
   "source": []
  }
 ],
 "metadata": {
  "kernelspec": {
   "display_name": "lit-review-env",
   "language": "python",
   "name": "lit-review-env"
  },
  "language_info": {
   "codemirror_mode": {
    "name": "ipython",
    "version": 3
   },
   "file_extension": ".py",
   "mimetype": "text/x-python",
   "name": "python",
   "nbconvert_exporter": "python",
   "pygments_lexer": "ipython3",
   "version": "3.9.13"
  }
 },
 "nbformat": 4,
 "nbformat_minor": 5
}
